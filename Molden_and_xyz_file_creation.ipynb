{
 "cells": [
  {
   "cell_type": "code",
   "execution_count": 1,
   "id": "ba46798f",
   "metadata": {},
   "outputs": [],
   "source": [
    "import numpy as np\n",
    "import re"
   ]
  },
  {
   "cell_type": "markdown",
   "id": "ff7a7e13",
   "metadata": {},
   "source": [
    "    #Let's first note down the number of excited roots that are being calculated"
   ]
  },
  {
   "cell_type": "code",
   "execution_count": 2,
   "id": "41fd7ce6",
   "metadata": {},
   "outputs": [],
   "source": [
    "with open(\"HOF_RHF.out\") as f:\n",
    "    all_lines = f.readlines()\n",
    "    \n",
    "def ex_ene_parse(pat3, all_lines):\n",
    "    root_ene = []\n",
    "    for line in all_lines:\n",
    "        for match in re.finditer(pat3,line.strip()):\n",
    "            root_ene.append(float(line.strip().split()[4]))\n",
    "    return root_ene\n",
    "\n",
    "pat3 = re.compile(r\"Root:...\")\n",
    "del_ex_root_ene = ex_ene_parse(pat3,all_lines)\n",
    "n_roots = len(del_ex_root_ene)"
   ]
  },
  {
   "cell_type": "code",
   "execution_count": 3,
   "id": "854d0e94",
   "metadata": {},
   "outputs": [],
   "source": [
    "pat1 = re.compile(r\"MO coeff matrix elements:..\")\n",
    "pat = re.compile(r\"...The SCF basis contains...\")\n",
    "basis_line = []\n",
    "for line in all_lines:\n",
    "    for match in re.finditer(pat, line):\n",
    "        basis_line.append(line)"
   ]
  },
  {
   "cell_type": "code",
   "execution_count": 4,
   "id": "08a1c566",
   "metadata": {},
   "outputs": [],
   "source": [
    "nbas = int(basis_line[0].split()[5])\n",
    "note_lines = []\n",
    "for line in all_lines:\n",
    "    for match in re.finditer(pat1, line):\n",
    "        note_lines.append(line)"
   ]
  },
  {
   "cell_type": "code",
   "execution_count": 5,
   "id": "da4fd362",
   "metadata": {},
   "outputs": [],
   "source": [
    "l = len(note_lines)\n",
    "mo_coeff = []\n",
    "for i in range(l):\n",
    "    splitem = note_lines[i].strip().split()\n",
    "    #print(splitem)\n",
    "    temp = splitem[-1]\n",
    "    mo_coeff.append(temp)\n",
    "    \n",
    "# since the mo coefficients are repeating therefore let's remove the extra ones\n",
    "l = len(mo_coeff)\n",
    "#n = int(l/n_roots)\n",
    "#mo_coeff = mo_coeff[0:n]"
   ]
  },
  {
   "cell_type": "markdown",
   "id": "6400cdbc",
   "metadata": {},
   "source": [
    "            ### Converting mo_coeff list into the standard mo_ao matrix\n",
    "    The columns of this matrix would give us the required molecular orbitals\n",
    "    The design of matrix is such that a particular i,j index element would repesent, the contribution of jth ao in ith mo.\n",
    "    mo1 = linear combination of all aos\n",
    "    for 6 primitive basis, we will have six aos and therefore 6 mos\n",
    "    every column of the matrix would represent a particular mo."
   ]
  },
  {
   "cell_type": "code",
   "execution_count": 6,
   "id": "d86c8782",
   "metadata": {},
   "outputs": [],
   "source": [
    "def comp_coeff_parse(line):\n",
    "    #c = line.strip().split()[-1]\n",
    "    # let's find the comma inside the string to distinguish the real and imaginary part of the coeff\n",
    "    s = line.rfind(',')\n",
    "    # the real part will be from 2nd char to just before comma and imag part starts just after comma\n",
    "    # and ends on the last second character of the string\n",
    "    real_c = float(line[1:s])\n",
    "    im_c = float(line[s+1:-1])\n",
    "    comp_c = complex(real_c, im_c)\n",
    "    \n",
    "    return comp_c"
   ]
  },
  {
   "cell_type": "code",
   "execution_count": 7,
   "id": "b4f4d143",
   "metadata": {},
   "outputs": [
    {
     "data": {
      "text/plain": [
       "400"
      ]
     },
     "execution_count": 7,
     "metadata": {},
     "output_type": "execute_result"
    }
   ],
   "source": [
    "len(mo_coeff)"
   ]
  },
  {
   "cell_type": "code",
   "execution_count": 8,
   "id": "f7b1ed28",
   "metadata": {},
   "outputs": [],
   "source": [
    "mo_array = np.zeros(nbas*nbas, dtype = complex)\n",
    "for i in range(len(mo_coeff)):\n",
    "    mo_array[i] = comp_coeff_parse(mo_coeff[i])\n",
    "\n",
    "mo_matrix = mo_array.reshape(nbas, nbas)"
   ]
  },
  {
   "cell_type": "markdown",
   "id": "5e55330e",
   "metadata": {},
   "source": [
    "###  Parsing the molecular orbital energies and occupancy"
   ]
  },
  {
   "cell_type": "code",
   "execution_count": 9,
   "id": "8d137380",
   "metadata": {},
   "outputs": [],
   "source": [
    "pat_mo = re.compile(r\"Orbital analysis...\")\n",
    "pat_end = re.compile(r\"Properties:\")"
   ]
  },
  {
   "cell_type": "code",
   "execution_count": 10,
   "id": "7840fbda",
   "metadata": {},
   "outputs": [],
   "source": [
    "orbital_lines = []\n",
    "for idx, line in enumerate(all_lines):\n",
    "    if re.match(pat_mo, line.strip()):\n",
    "        break\n",
    "idx = idx+3\n",
    "line = all_lines[idx]\n",
    "while not(re.match(pat_end, line.strip())):\n",
    "    orbital_lines.append(line.strip())\n",
    "    idx += 1\n",
    "    line = all_lines[idx]\n",
    "\n",
    "# there have been some extra empty line addition from the output file , therefore delete the last \n",
    "# two lines\n",
    "orbital_lines = orbital_lines[:-2]\n",
    "\n",
    "orb_ene = []\n",
    "occ_detail = []\n",
    "for orb_line in orbital_lines:\n",
    "    orb_ene.append(orb_line.strip().split()[0])\n",
    "    occ_detail.append(orb_line.strip().split()[2])"
   ]
  },
  {
   "cell_type": "markdown",
   "id": "1fffa4b8",
   "metadata": {},
   "source": [
    "#### So far  we have the mo_ao_matrix, orb_ene_list, occ_detail_list\n",
    "#### Let's extract the charge info and co-ordinate infos"
   ]
  },
  {
   "cell_type": "code",
   "execution_count": 11,
   "id": "d8f42d55",
   "metadata": {},
   "outputs": [],
   "source": [
    "pat2 = re.compile(r\"charge =\")\n",
    "with open(\"HOF_RHF.inp\") as f:\n",
    "    inp_lines = f.readlines()\n",
    "charge_info = []\n",
    "for line in inp_lines:\n",
    "    for match in re.finditer(pat2, line):\n",
    "        charge_info.append(line)\n",
    "\n",
    "# Collecting charge information\n",
    "molecular_charge = charge_info[0].strip()\n",
    "atomic_charge = charge_info[1:]\n",
    "charges = []\n",
    "for line in atomic_charge:\n",
    "    charges.append(line.strip().split()[2])"
   ]
  },
  {
   "cell_type": "code",
   "execution_count": 12,
   "id": "b50adedd",
   "metadata": {},
   "outputs": [],
   "source": [
    "pat_st = re.compile(r\"# geometry\")\n",
    "pat_en = re.compile(r\"}\")"
   ]
  },
  {
   "cell_type": "code",
   "execution_count": 13,
   "id": "4eabbf39",
   "metadata": {},
   "outputs": [],
   "source": [
    "for idx, line in enumerate(inp_lines):\n",
    "    if re.match(pat_st, line.strip()):\n",
    "        break       \n",
    "        \n",
    "# since coordinate info starts after two lines after of above mentioned starting pattern\n",
    "idx = idx +2\n",
    "line = inp_lines[idx]\n",
    "atom_info = []\n",
    "while not(re.match(pat_en, line.strip())):\n",
    "    atom_info.append(line.strip())\n",
    "    # we need alternate lines as in between coordinate info we have charge info as well\n",
    "    # so we keep increment to \"+2\"\n",
    "    idx = idx + 2\n",
    "    line = inp_lines[idx]"
   ]
  },
  {
   "cell_type": "code",
   "execution_count": 14,
   "id": "00603a8d",
   "metadata": {},
   "outputs": [],
   "source": [
    "labels = [] \n",
    "coord_info = []\n",
    "for atom in atom_info:\n",
    "    labels.append(atom.strip().split()[0])    \n",
    "    coord_info.append(atom.strip()[1:])"
   ]
  },
  {
   "cell_type": "markdown",
   "id": "798b9874",
   "metadata": {},
   "source": [
    "#### Now we also have the labels_list, coordinate_list, charge_list separately"
   ]
  },
  {
   "cell_type": "code",
   "execution_count": 15,
   "id": "04254492",
   "metadata": {},
   "outputs": [
    {
     "data": {
      "text/plain": [
       "'parsing_file = open(\\'mo_info_extraction.molden\\', \\'w\\')\\nparsing_file.write(f\"[Molden Format]\\nmade by MagChem_lab [0.0.0]\\n\")\\nparsing_file.write(\"[Atoms] (AU)\\n\")\\n\\nfor i in range(len(labels)):\\n    parsing_file.write(f\"{labels[i]}   {i+1}   {charges[i]}    {coord_info[i]}\\n\")\\n\\nparsing_file.write(f\"[MO]\\n\")\\n\\nfor i in range(len(orb_ene)):\\n    parsing_file.write(f\" Sym= A\\n Ene= {orb_ene[i]}\\n\") \\n    parsing_file.write(f\" Spin= Alpha\\n Occp= {occ_detail[i]}\\n\")    \\n    for j in range(nbas):\\n        parsing_file.write(f\"   {j+1}     {mo_matrix[j,i].real:g}+{mo_matrix[j,i].imag:g}j\\n\")\\n\\nparsing_file.close()'"
      ]
     },
     "execution_count": 15,
     "metadata": {},
     "output_type": "execute_result"
    }
   ],
   "source": [
    "'''parsing_file = open('mo_info_extraction.molden', 'w')\n",
    "parsing_file.write(f\"[Molden Format]\\nmade by MagChem_lab [0.0.0]\\n\")\n",
    "parsing_file.write(\"[Atoms] (AU)\\n\")\n",
    "\n",
    "for i in range(len(labels)):\n",
    "    parsing_file.write(f\"{labels[i]}   {i+1}   {charges[i]}    {coord_info[i]}\\n\")\n",
    "\n",
    "parsing_file.write(f\"[MO]\\n\")\n",
    "\n",
    "for i in range(len(orb_ene)):\n",
    "    parsing_file.write(f\" Sym= A\\n Ene= {orb_ene[i]}\\n\") \n",
    "    parsing_file.write(f\" Spin= Alpha\\n Occp= {occ_detail[i]}\\n\")    \n",
    "    for j in range(nbas):\n",
    "        parsing_file.write(f\"   {j+1}     {mo_matrix[j,i].real:g}+{mo_matrix[j,i].imag:g}j\\n\")\n",
    "\n",
    "parsing_file.close()'''"
   ]
  },
  {
   "cell_type": "code",
   "execution_count": 16,
   "id": "daaa62be",
   "metadata": {},
   "outputs": [],
   "source": [
    "# writing the file the geom.xyz file\n",
    "geom_xyz = open('geom.xyz', 'w')\n",
    "geom_xyz.write(f\"8\\n\\n\")\n",
    "\n",
    "for i in range(len(coord_info)):\n",
    "    geom_xyz.write(f\"{labels[i]}          {coord_info[i]}\\n\")\n",
    "    \n",
    "geom_xyz.close()"
   ]
  },
  {
   "cell_type": "code",
   "execution_count": null,
   "id": "c1742832",
   "metadata": {},
   "outputs": [],
   "source": []
  },
  {
   "cell_type": "markdown",
   "id": "a632fa4c",
   "metadata": {},
   "source": [
    "    ### Let's parse the basis info according to the format required"
   ]
  },
  {
   "cell_type": "code",
   "execution_count": 17,
   "id": "14aa8fcb",
   "metadata": {},
   "outputs": [],
   "source": [
    "patst = re.compile(r\"Basis file..\")\n",
    "patend = re.compile(r\"User input successfully read..\")\n",
    "pat1 = re.compile(\"\\$\\s+..TYPE FUNCTIONS\")   \n",
    "# \\$ : to read the '$',\n",
    "# \\s+ : to detect the just after space\n",
    "# .. : to match presence of any word or letter\n",
    "pat = re.compile(r\"a \\d\")\n",
    "pat2 = re.compile(r\"    charge =\")"
   ]
  },
  {
   "cell_type": "code",
   "execution_count": 18,
   "id": "f808e7c9",
   "metadata": {},
   "outputs": [],
   "source": [
    "# bulding the keys that can be used later for dictionary\n",
    "atomic_numbers = []\n",
    "shell_types = []\n",
    "for line in all_lines:\n",
    "    for match in re.finditer(pat1, line.strip()):\n",
    "        shell_types.append(line.strip().split()[1][0])\n",
    "\n",
    "for line in inp_lines:\n",
    "    for match in re.finditer(pat2, line):\n",
    "        number = line.strip().split()[-1]\n",
    "        atomic_numbers.append(number)"
   ]
  },
  {
   "cell_type": "code",
   "execution_count": 19,
   "id": "ca22832f",
   "metadata": {},
   "outputs": [],
   "source": [
    "def sent_prim_rows(prim_rows):\n",
    "    n_columns = len(prim_rows[0].strip().split())\n",
    "    n_rows = len(prim_rows)\n",
    "    mat = np.zeros((n_rows, n_columns))\n",
    "    for i in range(n_rows):\n",
    "        for j in range(n_columns):\n",
    "            mat[i,j] = prim_rows[i].strip().split()[j]\n",
    "            \n",
    "    return mat"
   ]
  },
  {
   "cell_type": "code",
   "execution_count": 20,
   "id": "819f91a8",
   "metadata": {},
   "outputs": [],
   "source": [
    "# this line belongs to the S shell of first atom\n",
    "def cal_inner_dict(idx, line, patst, patend, pat1):\n",
    "    \n",
    "    last_type = line.strip().split()[1]\n",
    "\n",
    "    fun_dict = {}\n",
    "    prim_rows = []\n",
    "    while not re.match(patst, line.strip()):\n",
    "        if re.match(pat1, line.strip()):\n",
    "            type_ = line.strip().split()[1]\n",
    "            idx +=1\n",
    "            line = all_lines[idx]\n",
    "\n",
    "            if prim_rows != []:\n",
    "                mat = sent_prim_rows(prim_rows)\n",
    "                fun_dict[f\"{last_type[0]}\"] = mat\n",
    "                prim_rows = []\n",
    "            last_type = type_\n",
    "        \n",
    "        elif re.match(patend, line.strip()):\n",
    "            mat = sent_prim_rows(prim_rows)\n",
    "            fun_dict[f\"{last_type[0]}\"] = mat\n",
    "            prim_rows = []\n",
    "            return fun_dict\n",
    "            break\n",
    "            \n",
    "        else:\n",
    "            #print(line.strip())\n",
    "            prim_rows.append(line)\n",
    "\n",
    "            idx+=1\n",
    "            line = all_lines[idx]\n",
    "\n",
    "    mat = sent_prim_rows(prim_rows)\n",
    "    fun_dict[f\"{last_type[0]}\"] = mat\n",
    "    \n",
    "    return fun_dict"
   ]
  },
  {
   "cell_type": "markdown",
   "id": "0c642e06",
   "metadata": {},
   "source": [
    "    # parsing for 6-31G\n",
    "    # 6 exponents present in 1st column\n",
    "    # and 6 contraction coeffs present in 2nd column"
   ]
  },
  {
   "cell_type": "markdown",
   "id": "174f87b2",
   "metadata": {},
   "source": [
    "    If we can read the \"a ..\" line representing atomic number, then we can define a function which will send the this matching line into function, which can parse the shell info like exponent and coeffs etc. In the above code, we have performed parsing for \"O\" atom."
   ]
  },
  {
   "cell_type": "code",
   "execution_count": 21,
   "id": "4e379add",
   "metadata": {},
   "outputs": [],
   "source": [
    "# Constructing the outer dictionary according to the atomic number\n",
    "def outer_dict_atomic_num(pat,patst, patend, pat1, all_lines):\n",
    "    # finding the atomic number line\n",
    "    atomic_line_idx = []\n",
    "    for idx, line in enumerate(all_lines):\n",
    "        if re.match(pat, line.strip()):\n",
    "            atomic_line_idx.append(idx)\n",
    "\n",
    "    atomic_basisfun_nested_dict = {}\n",
    "    for i in range(len(atomic_line_idx)):\n",
    "        # we need to send the index and line of first basis function of atoms\n",
    "        idx = atomic_line_idx[i] + 2\n",
    "        line = all_lines[idx]\n",
    "\n",
    "        atomic_number = atomic_numbers[i]\n",
    "\n",
    "        atomic_basisfun_nested_dict[f\"{atomic_number}\"] = cal_inner_dict(idx, line, patst, patend, pat1)\n",
    "        #print(cal_basisfun_dict(idx, line))\n",
    "        \n",
    "    return atomic_basisfun_nested_dict"
   ]
  },
  {
   "cell_type": "code",
   "execution_count": 22,
   "id": "3b6ecfd6",
   "metadata": {},
   "outputs": [],
   "source": [
    "def shell_gaussian_splitting(fun_mat,key):\n",
    "    l = fun_mat.shape[1]\n",
    "    coeffs = {}\n",
    "    expos = {}\n",
    "    t = 0\n",
    "    for i in range(1,l):\n",
    "        array = fun_mat[:,i]\n",
    "        array = array[array != 0]\n",
    "        coeffs[f\"{key}{i}_coeff\"] = array\n",
    "        \n",
    "        z = len(array)\n",
    "        expos[f\"{key}{i}_expo\"] = fun_mat[t:t+z,0]\n",
    "        \n",
    "        t = t+z\n",
    "        \n",
    "    return coeffs, expos"
   ]
  },
  {
   "cell_type": "code",
   "execution_count": 23,
   "id": "aec480b9",
   "metadata": {},
   "outputs": [],
   "source": [
    "def checkKey(dic, key):\n",
    "    if key in dic.keys():\n",
    "        return dic[key]\n",
    "    else:\n",
    "        return np.zeros(1)"
   ]
  },
  {
   "cell_type": "code",
   "execution_count": 24,
   "id": "0ef54e5e",
   "metadata": {},
   "outputs": [],
   "source": [
    "def write_coeffs_expos(fun_mat, coeffs, expos, key, atom_ind, file):\n",
    "    # l = number of columns in the shell,\n",
    "    # where first column is expo and others are for number of slater functions\n",
    "    # eg. if there are 3 types of contractions in \"S\" shell of \"O\" atom\n",
    "    # 6 for core 1s and 3,1 for 2S valence shell , then l = 4 here\n",
    "    \n",
    "    l = fun_mat.shape[1]\n",
    "    \n",
    "    lowercase_key = key.lower()\n",
    "    \n",
    "    #file.write(f\"   {atom_ind} 0\\n\")\n",
    "    for i in range(1,l):\n",
    "        #print(f\"{key}{i} coefficients:\\n\",coeffs[f\"{key}{i}_coeff\"])\n",
    "        #print(f\"{key}{i} expoenents:\\n\",expos[f\"{key}{i}_expo\"])\n",
    "        \n",
    "        coeff = coeffs[f\"{key}{i}_coeff\"]\n",
    "        expo = expos[f\"{key}{i}_expo\"]\n",
    "        u = len(coeff)\n",
    "        \n",
    "        file.write(f\" {lowercase_key}    {u} 1.00\\n\")\n",
    "        \n",
    "        for j in range(u):\n",
    "            file.write(f\"         {expo[j]}             {coeff[j]}\\n\")"
   ]
  },
  {
   "cell_type": "code",
   "execution_count": null,
   "id": "43f0c154",
   "metadata": {},
   "outputs": [],
   "source": []
  },
  {
   "cell_type": "code",
   "execution_count": 25,
   "id": "108446f5",
   "metadata": {},
   "outputs": [],
   "source": [
    "keyset1 = atomic_numbers\n",
    "keyset2 = list(set(shell_types))\n",
    "if keyset2[0] != \"S\":\n",
    "    keyset2 = keyset2[::-1]\n",
    "outer_dict = outer_dict_atomic_num(pat,patst, patend, pat1, all_lines)\n",
    "#print(outer_dict)"
   ]
  },
  {
   "cell_type": "code",
   "execution_count": 26,
   "id": "fe188a4e",
   "metadata": {},
   "outputs": [
    {
     "data": {
      "text/plain": [
       "'file = open(\"basis_formatting.txt\", \"w\")\\n\\nfor i in range(len(keyset1)):\\n    for j in range(len(keyset2)):\\n        # outer dict contains matrices according to atomic number ket\\n        # by inserting one key, we are narrowing the range to one atomic number and all shells\\n        outer_dict_keyi = outer_dict[keyset1[i]]\\n     \\n        # one inner dict will contain one shell and all the gaussian functions in that shell\\n        # but we must also check, whether some shells are not present in the some atom\\n        \\n        inner_dict_keyj = checkKey(outer_dict_keyi, keyset2[j])\\n        #print(inner_dict_keyj)\\n        # since we have zoomed in to one shell, lets split according to diff contractions\\n        if inner_dict_keyj.any() != 0:\\n            coeffs, expos = shell_gaussian_splitting(inner_dict_keyj,keyset2[j])\\n            write_coeffs_expos(inner_dict_keyj, coeffs, expos, keyset2[j], i+1, file)\\n            \\nfile.close()'"
      ]
     },
     "execution_count": 26,
     "metadata": {},
     "output_type": "execute_result"
    }
   ],
   "source": [
    "'''file = open(\"basis_formatting.txt\", \"w\")\n",
    "\n",
    "for i in range(len(keyset1)):\n",
    "    for j in range(len(keyset2)):\n",
    "        # outer dict contains matrices according to atomic number ket\n",
    "        # by inserting one key, we are narrowing the range to one atomic number and all shells\n",
    "        outer_dict_keyi = outer_dict[keyset1[i]]\n",
    "     \n",
    "        # one inner dict will contain one shell and all the gaussian functions in that shell\n",
    "        # but we must also check, whether some shells are not present in the some atom\n",
    "        \n",
    "        inner_dict_keyj = checkKey(outer_dict_keyi, keyset2[j])\n",
    "        #print(inner_dict_keyj)\n",
    "        # since we have zoomed in to one shell, lets split according to diff contractions\n",
    "        if inner_dict_keyj.any() != 0:\n",
    "            coeffs, expos = shell_gaussian_splitting(inner_dict_keyj,keyset2[j])\n",
    "            write_coeffs_expos(inner_dict_keyj, coeffs, expos, keyset2[j], i+1, file)\n",
    "            \n",
    "file.close()'''"
   ]
  },
  {
   "cell_type": "code",
   "execution_count": 27,
   "id": "36803c43",
   "metadata": {},
   "outputs": [],
   "source": [
    "parsing_file = open('geom.molden', 'w')\n",
    "parsing_file.write(\"[Molden Format]\\nmade by MagChem_lab [0.0.0]\\n\")\n",
    "parsing_file.write(\"[Atoms] (AU)\\n\")\n",
    "\n",
    "for i in range(len(labels)):\n",
    "    parsing_file.write(f\"{labels[i]}   {i+1}   {charges[i]}    {coord_info[i]}\\n\")\n",
    "\n",
    "parsing_file.write(\"[GTO]\\n\")\n",
    "\n",
    "for i in range(len(keyset1)):\n",
    "    #writing the atomic number, whose shell info will be noted\n",
    "    parsing_file.write(f\"    {i+1} 0\\n\")       \n",
    "    for j in range(len(keyset2)):\n",
    "        # outer dict contains matrices according to atomic number ket\n",
    "        # by inserting one key, we are narrowing the range to one atomic number and all shells\n",
    "        outer_dict_keyi = outer_dict[keyset1[i]]\n",
    "     \n",
    "        # one inner dict will contain one shell and all the gaussian functions in that shell\n",
    "        # but we must also check, whether some shells are not present in the some atom\n",
    "        \n",
    "        inner_dict_keyj = checkKey(outer_dict_keyi, keyset2[j])\n",
    "        #print(inner_dict_keyj)\n",
    "        # since we have zoomed in to one shell, lets split according to diff contractions\n",
    "        if inner_dict_keyj.any() != 0:\n",
    "            coeffs, expos = shell_gaussian_splitting(inner_dict_keyj,keyset2[j])\n",
    "            write_coeffs_expos(inner_dict_keyj, coeffs, expos, keyset2[j], i+1, parsing_file)\n",
    "        \n",
    "        if j == (len(keyset2)-1):\n",
    "            # when we have reached the end of parsing all shells of an atom, line space is needed\n",
    "            parsing_file.write(\"\\n\")   \n",
    "\n",
    "parsing_file.write(\"[MO]\\n\")\n",
    "\n",
    "for i in range(len(orb_ene)):\n",
    "    parsing_file.write(f\" Ene= {orb_ene[i]}\\n\") \n",
    "    parsing_file.write(f\" Spin= Alpha\\n Occp= {float(occ_detail[i])}\\n\")    \n",
    "    for j in range(nbas):\n",
    "        element = mo_matrix[j,i]\n",
    "        string = f\"{element}\"\n",
    "        string_wb =string[1:-1] \n",
    "        parsing_file.write(f\"   {j+1}     {string_wb}\\n\")\n",
    "\n",
    "parsing_file.close()"
   ]
  },
  {
   "cell_type": "code",
   "execution_count": 28,
   "id": "5eabcd22",
   "metadata": {},
   "outputs": [
    {
     "name": "stdout",
     "output_type": "stream",
     "text": [
      "  -0.2202163116261965+2.148060964419362e-18j\n"
     ]
    }
   ],
   "source": [
    "n = mo_matrix[1,2]\n",
    "st = f\"{n}\"\n",
    "print(f\"  {st[1:-1]}\")"
   ]
  },
  {
   "cell_type": "code",
   "execution_count": 29,
   "id": "b6844fcf",
   "metadata": {},
   "outputs": [],
   "source": [
    "st = complex(st[1:-1])"
   ]
  },
  {
   "cell_type": "code",
   "execution_count": 30,
   "id": "8cf892a6",
   "metadata": {},
   "outputs": [
    {
     "data": {
      "text/plain": [
       "(20, 20)"
      ]
     },
     "execution_count": 30,
     "metadata": {},
     "output_type": "execute_result"
    }
   ],
   "source": [
    "mo_matrix.shape"
   ]
  },
  {
   "cell_type": "code",
   "execution_count": 31,
   "id": "e4fbd99a",
   "metadata": {},
   "outputs": [
    {
     "data": {
      "text/plain": [
       "20"
      ]
     },
     "execution_count": 31,
     "metadata": {},
     "output_type": "execute_result"
    }
   ],
   "source": [
    "len(orb_ene)"
   ]
  },
  {
   "cell_type": "code",
   "execution_count": null,
   "id": "bc075188",
   "metadata": {},
   "outputs": [],
   "source": []
  },
  {
   "cell_type": "code",
   "execution_count": null,
   "id": "523d4362",
   "metadata": {},
   "outputs": [],
   "source": []
  },
  {
   "cell_type": "code",
   "execution_count": null,
   "id": "8aa14d9a",
   "metadata": {},
   "outputs": [],
   "source": []
  }
 ],
 "metadata": {
  "kernelspec": {
   "display_name": "Python 3",
   "language": "python",
   "name": "python3"
  },
  "language_info": {
   "codemirror_mode": {
    "name": "ipython",
    "version": 3
   },
   "file_extension": ".py",
   "mimetype": "text/x-python",
   "name": "python",
   "nbconvert_exporter": "python",
   "pygments_lexer": "ipython3",
   "version": "3.8.8"
  }
 },
 "nbformat": 4,
 "nbformat_minor": 5
}
