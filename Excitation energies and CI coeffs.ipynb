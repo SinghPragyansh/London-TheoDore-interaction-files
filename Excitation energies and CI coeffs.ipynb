{
 "cells": [
  {
   "cell_type": "code",
   "execution_count": 1,
   "id": "15ce5e47",
   "metadata": {},
   "outputs": [],
   "source": [
    "import numpy as np\n",
    "import re\n",
    "import pandas as pd\n",
    "import matplotlib.pyplot as plt\n",
    "import h5py"
   ]
  },
  {
   "cell_type": "code",
   "execution_count": 2,
   "id": "f76bee1b",
   "metadata": {},
   "outputs": [],
   "source": [
    "with open(\"HOF_RHF.out\") as f:\n",
    "    all_lines = f.readlines()"
   ]
  },
  {
   "cell_type": "code",
   "execution_count": 3,
   "id": "8f6a3ab2",
   "metadata": {},
   "outputs": [
    {
     "data": {
      "text/plain": [
       "list"
      ]
     },
     "execution_count": 3,
     "metadata": {},
     "output_type": "execute_result"
    }
   ],
   "source": [
    "type(all_lines)"
   ]
  },
  {
   "cell_type": "markdown",
   "id": "7391cfdd",
   "metadata": {},
   "source": [
    "### Largest coefficients of the exci roots"
   ]
  },
  {
   "cell_type": "code",
   "execution_count": 4,
   "id": "f6a580b0",
   "metadata": {},
   "outputs": [],
   "source": [
    "pat1 = re.compile(r\"The Final eigenvalues from the Davidson method\")\n",
    "pat2 = re.compile(r\"================...\")\n",
    "pat3 = re.compile(r\"Root:...\")\n",
    "pat4 = re.compile(r\"C^2 :...\")\n",
    "pat5 = re.compile(r\"Root: 0...\")"
   ]
  },
  {
   "cell_type": "code",
   "execution_count": 5,
   "id": "f678fdae",
   "metadata": {},
   "outputs": [],
   "source": [
    "def ex_ene_parse(pat3, all_lines):\n",
    "    root_ene = []\n",
    "    for line in all_lines:\n",
    "        for match in re.finditer(pat3,line.strip()):\n",
    "            root_ene.append(float(line.strip().split()[4]))\n",
    "    return root_ene"
   ]
  },
  {
   "cell_type": "code",
   "execution_count": 6,
   "id": "4d71fa1c",
   "metadata": {},
   "outputs": [
    {
     "data": {
      "text/plain": [
       "[0.1744080457739137,\n",
       " 0.2535162395738729,\n",
       " 0.3483169930429212,\n",
       " 0.3821066412378998,\n",
       " 0.4030583583492398,\n",
       " 0.486008501509091,\n",
       " 0.5143698041793688,\n",
       " 0.5893012916740668]"
      ]
     },
     "execution_count": 6,
     "metadata": {},
     "output_type": "execute_result"
    }
   ],
   "source": [
    "del_ex_root_ene = ex_ene_parse(pat3,all_lines)\n",
    "del_ex_root_ene"
   ]
  },
  {
   "cell_type": "code",
   "execution_count": 7,
   "id": "a222c3be",
   "metadata": {},
   "outputs": [],
   "source": [
    "def from_to(line):\n",
    "    from_state = line.strip().split()[2]\n",
    "    to_state = line.strip().split()[0]\n",
    "    \n",
    "    from_to_form = (f\"{from_state} -> {to_state}\")\n",
    "    \n",
    "    return from_to_form"
   ]
  },
  {
   "cell_type": "code",
   "execution_count": 8,
   "id": "c0ab6cce",
   "metadata": {},
   "outputs": [],
   "source": [
    "def comp_num_without_paranthesis(num):\n",
    "    real_part = num.real\n",
    "    im_part = num.imag\n",
    "    return round(real_part,6), round(im_part,6)"
   ]
  },
  {
   "cell_type": "code",
   "execution_count": 9,
   "id": "cb7ad91c",
   "metadata": {},
   "outputs": [],
   "source": [
    "def comp_coeff_parse(line):\n",
    "    c = line.strip().split()[-1]\n",
    "    # let's find the comma inside the string to distinguish the real and imaginary part of the coeff\n",
    "    s = c.rfind(',')\n",
    "    # the real part will be from 2nd char to just before comma and imag part starts just after comma\n",
    "    # and ends on the last second character of the string\n",
    "    real_c = float(c[1:s])\n",
    "    im_c = float(c[s+1:-1])\n",
    "    comp_c = complex(real_c, im_c)\n",
    "    \n",
    "    return comp_c"
   ]
  },
  {
   "cell_type": "code",
   "execution_count": 10,
   "id": "1a12536b",
   "metadata": {},
   "outputs": [],
   "source": [
    "def prob_extraction(idx,pat2, all_lines):\n",
    "    prob_list = []\n",
    "    line = all_lines[idx]\n",
    "    \n",
    "    while not(re.match(pat2, line.strip())):\n",
    "        prob = line.strip().split()[5]\n",
    "        prob_list.append(prob)\n",
    "        \n",
    "        idx +=1\n",
    "        line = all_lines[idx]\n",
    "    \n",
    "    prob_array = np.zeros(len(prob_list))\n",
    "    prob_array[:] = prob_list\n",
    "    \n",
    "    return prob_array"
   ]
  },
  {
   "cell_type": "code",
   "execution_count": 11,
   "id": "aea460c1",
   "metadata": {},
   "outputs": [],
   "source": [
    "def largest_ci_coeff_parsing(idx, pat2, all_lines):\n",
    "    largest_coeffs = []\n",
    "    from_to_states = []\n",
    "    line = all_lines[idx]\n",
    "        \n",
    "    while not(re.match(pat2, line.strip())):\n",
    "            \n",
    "        comp_c = comp_coeff_parse(line)\n",
    "        largest_coeffs.append(comp_c)\n",
    "        from_to_state =from_to(line)\n",
    "        from_to_states.append(from_to_state)\n",
    "            \n",
    "        idx +=  1\n",
    "        line = all_lines[idx]\n",
    "        \n",
    "    return largest_coeffs, from_to_states, idx"
   ]
  },
  {
   "cell_type": "code",
   "execution_count": 12,
   "id": "c487a4c6",
   "metadata": {},
   "outputs": [],
   "source": [
    "num_roots = len(del_ex_root_ene)\n",
    "for idx, line in enumerate(all_lines):\n",
    "    if re.match(pat5, line.strip()):\n",
    "        break\n",
    "\n",
    "# let's go to first coeff line of Root 0--->\n",
    "idx = idx+2\n",
    "line = all_lines[idx]\n",
    "\n",
    "file_write = open(\"ve.out\", \"w\")\n",
    "\n",
    "for n in range(num_roots):\n",
    "\n",
    "    lc_list, from_to_states, updated_idx = largest_ci_coeff_parsing(idx, pat2, all_lines)\n",
    "\n",
    "    # jumping to coefficient line for next root     \n",
    "    idx = updated_idx + 3\n",
    "    line = all_lines[idx]\n",
    "    \n",
    "    # changing format the largest coeff of current root from list to complex num array\n",
    "    l = len(lc_list)\n",
    "    coeffs_array = np.zeros(l, dtype = complex)\n",
    "    coeffs_array[:] = lc_list[:]\n",
    "    \n",
    "    file_write.write(f\"Root  {n+1}: Largest CI coefficients:\\n\")\n",
    "    #print(f\"Root  {n+1}: Largest CI coefficients:\")\n",
    "    for i in range(len(coeffs_array)):\n",
    "        c_numb = coeffs_array[i]\n",
    "        string_cnum = f\"{c_numb}\"\n",
    "        c_numb = string_cnum[1:-1]\n",
    "        #real, im = comp_num_without_paranthesis(coeffs_array[i])\n",
    "        string = f\"  {from_to_states[i]} : D -> V :  {c_numb}\\n\"\n",
    "        #print(string)\n",
    "        file_write.write(string)    \n",
    "    file_write.write(\"\\n\")"
   ]
  },
  {
   "cell_type": "markdown",
   "id": "b763d164",
   "metadata": {},
   "source": [
    "#### So far we have succesfully found the delta excitation of all excited roots and largest ci coeff\n",
    "#### Next task is to index the roots, find the g.s. energy,, oscillator stength and the max. CI coeff "
   ]
  },
  {
   "cell_type": "code",
   "execution_count": 13,
   "id": "3a77b160",
   "metadata": {},
   "outputs": [],
   "source": [
    "pat_gs = re.compile(r\"Converged SCF results:\")"
   ]
  },
  {
   "cell_type": "code",
   "execution_count": 14,
   "id": "84143f82",
   "metadata": {},
   "outputs": [],
   "source": [
    "for idx, line in enumerate(all_lines):\n",
    "    if re.match(pat_gs, line.strip()):\n",
    "        break\n",
    "idx = idx + 9\n",
    "line = all_lines[idx]"
   ]
  },
  {
   "cell_type": "code",
   "execution_count": 15,
   "id": "10b22ef6",
   "metadata": {},
   "outputs": [
    {
     "data": {
      "text/plain": [
       "(-174.6841952670456,\n",
       " [0.1744080457739137,\n",
       "  0.2535162395738729,\n",
       "  0.3483169930429212,\n",
       "  0.3821066412378998,\n",
       "  0.4030583583492398,\n",
       "  0.486008501509091,\n",
       "  0.5143698041793688,\n",
       "  0.5893012916740668])"
      ]
     },
     "execution_count": 15,
     "metadata": {},
     "output_type": "execute_result"
    }
   ],
   "source": [
    "gs_ene = float(all_lines[idx].strip().split()[2])\n",
    "gs_ene, del_ex_root_ene"
   ]
  },
  {
   "cell_type": "code",
   "execution_count": 16,
   "id": "511daf1f",
   "metadata": {},
   "outputs": [],
   "source": [
    "l = len(del_ex_root_ene)\n",
    "del_ex_array = np.zeros(l)\n",
    "del_ex_array[:] = del_ex_root_ene[:]"
   ]
  },
  {
   "cell_type": "code",
   "execution_count": 17,
   "id": "0dfc2f85",
   "metadata": {},
   "outputs": [],
   "source": [
    "# broadcasting\n",
    "ex_root_tot_ene = del_ex_array + gs_ene"
   ]
  },
  {
   "cell_type": "markdown",
   "id": "0ace4feb",
   "metadata": {},
   "source": [
    " The idea is to make list of every column seperately, s.t. in every loop of i, we can call \n",
    " the particluar elements\n",
    "     For root number we can index from the one"
   ]
  },
  {
   "cell_type": "markdown",
   "id": "97d0b219",
   "metadata": {},
   "source": [
    "                    Let's find the oscillator strength of length gauge"
   ]
  },
  {
   "cell_type": "code",
   "execution_count": 18,
   "id": "37ee805b",
   "metadata": {},
   "outputs": [],
   "source": [
    "# We make use of double backslash to represent a literal paranthesis, \n",
    "# for regular expression to be able to read it as literal paranthesis, \n",
    "# also while compiling do not use 'r' in the front of string, otherwise re is not able to match \n",
    "pat_osc = re.compile(\"\\\\(length gauge\\\\):\")"
   ]
  },
  {
   "cell_type": "code",
   "execution_count": 19,
   "id": "7d92651d",
   "metadata": {},
   "outputs": [],
   "source": [
    "for idx, line in enumerate(all_lines):\n",
    "    if re.match(pat_osc, line.strip()):\n",
    "        break\n",
    "osc_str_list = line.strip().split()[2: 2+num_roots]\n",
    "osc_str_array = np.zeros(num_roots)\n",
    "osc_str_array[:] = osc_str_list"
   ]
  },
  {
   "cell_type": "markdown",
   "id": "e4839f29",
   "metadata": {},
   "source": [
    "                        For RHF, the S^2 remains zero"
   ]
  },
  {
   "cell_type": "code",
   "execution_count": 20,
   "id": "79485d7a",
   "metadata": {},
   "outputs": [],
   "source": [
    "S_2_array = np.zeros(num_roots)"
   ]
  },
  {
   "cell_type": "markdown",
   "id": "4b36e613",
   "metadata": {},
   "source": [
    "                Let's write the Final Excited state Results table"
   ]
  },
  {
   "cell_type": "markdown",
   "id": "75d7de1d",
   "metadata": {},
   "source": []
  },
  {
   "cell_type": "code",
   "execution_count": 21,
   "id": "722220d4",
   "metadata": {},
   "outputs": [],
   "source": [
    "num_roots = len(del_ex_root_ene)\n",
    "for idx, line in enumerate(all_lines):\n",
    "    if re.match(pat5, line.strip()):\n",
    "        break\n",
    "\n",
    "# let's go to first coeff line of Root 0--->\n",
    "idx = idx+2\n",
    "line = all_lines[idx]\n",
    "\n",
    "file_write.write(\"  Final Excited State Results:\\n\\n\")\n",
    "file_write.write(\"  Root   Total Energy (a.u.)   Ex. Energy (eV)   Osc. (a.u.)   <S^2>   Max CI Coeff.      Excitation\\n\")\n",
    "file_write.write(\"------------------------------------------------------------------------------------------------------------\\n\")\n",
    "\n",
    "for n in range(num_roots):\n",
    "    lc_list, from_to_states, updated_idx = largest_ci_coeff_parsing(idx, pat2, all_lines)\n",
    "    prob_array = prob_extraction(idx, pat2, all_lines)\n",
    "    \n",
    "    ind_maxprob = np.argmax(prob_array)\n",
    "    #print(prob_array, ind_maxprob)\n",
    "    \n",
    "    # jumping to coefficient line for next root     \n",
    "    idx = updated_idx + 3\n",
    "    line = all_lines[idx]\n",
    "    \n",
    "    # changing format the largest coeff of current root from list to complex num array\n",
    "    l = len(lc_list)\n",
    "    coeffs_array = np.zeros(l, dtype = complex)\n",
    "    coeffs_array[:] = lc_list[:]\n",
    "    # Check for the largest coeff acc to the index of maxprob:\n",
    "    max_cc = coeffs_array[ind_maxprob]\n",
    "    string_max_cc = f\"{max_cc}\"\n",
    "    st_max_cc = string_max_cc[1:-1]\n",
    "    \n",
    "    corresponding_ft_state = from_to_states[ind_maxprob]\n",
    "    #print(corresponding_ft_state)\n",
    "    \n",
    "    file_write.write(f\"     {n+1}        {round(ex_root_tot_ene[n],6)}        {round(del_ex_array[n]*27.211324570273,6)}       {round(osc_str_array[n],6)}      {S_2_array[n]}      {st_max_cc}     {corresponding_ft_state} : D -> V\\n\")\n",
    "    \n",
    "file_write.close()"
   ]
  },
  {
   "cell_type": "code",
   "execution_count": null,
   "id": "7ead3110",
   "metadata": {},
   "outputs": [],
   "source": []
  },
  {
   "cell_type": "code",
   "execution_count": null,
   "id": "94f93ffd",
   "metadata": {},
   "outputs": [],
   "source": []
  }
 ],
 "metadata": {
  "kernelspec": {
   "display_name": "Python 3",
   "language": "python",
   "name": "python3"
  },
  "language_info": {
   "codemirror_mode": {
    "name": "ipython",
    "version": 3
   },
   "file_extension": ".py",
   "mimetype": "text/x-python",
   "name": "python",
   "nbconvert_exporter": "python",
   "pygments_lexer": "ipython3",
   "version": "3.8.8"
  }
 },
 "nbformat": 4,
 "nbformat_minor": 5
}
