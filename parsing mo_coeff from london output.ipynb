{
 "cells": [
  {
   "cell_type": "code",
   "execution_count": 1,
   "id": "3323212f",
   "metadata": {},
   "outputs": [],
   "source": [
    "import numpy as np\n",
    "import re"
   ]
  },
  {
   "cell_type": "code",
   "execution_count": 2,
   "id": "d5ad43f2",
   "metadata": {},
   "outputs": [],
   "source": [
    "with open(\"H2_RHF.out\") as f:\n",
    "    all_lines = f.readlines()"
   ]
  },
  {
   "cell_type": "code",
   "execution_count": 3,
   "id": "fb4d8750",
   "metadata": {},
   "outputs": [],
   "source": [
    "pat1 = re.compile(r\"MO coeff matrix elements:..\")"
   ]
  },
  {
   "cell_type": "code",
   "execution_count": 4,
   "id": "b044da5e",
   "metadata": {},
   "outputs": [],
   "source": [
    "pat = re.compile(r\"...The SCF basis contains...\")\n",
    "basis_line = []\n",
    "for line in all_lines:\n",
    "    for match in re.finditer(pat, line):\n",
    "        basis_line.append(line)"
   ]
  },
  {
   "cell_type": "code",
   "execution_count": 5,
   "id": "d4304941",
   "metadata": {},
   "outputs": [],
   "source": [
    "nbas = int(basis_line[0].split()[5])"
   ]
  },
  {
   "cell_type": "code",
   "execution_count": 6,
   "id": "4f7088f8",
   "metadata": {},
   "outputs": [],
   "source": [
    "note_lines = []"
   ]
  },
  {
   "cell_type": "code",
   "execution_count": 7,
   "id": "dbc939a1",
   "metadata": {},
   "outputs": [],
   "source": [
    "for line in all_lines:\n",
    "    for match in re.finditer(pat1, line):\n",
    "        note_lines.append(line)"
   ]
  },
  {
   "cell_type": "code",
   "execution_count": 8,
   "id": "065268de",
   "metadata": {
    "scrolled": true
   },
   "outputs": [],
   "source": [
    "l = len(note_lines)\n",
    "mo_list = []\n",
    "for i in range(l):\n",
    "    splitem = note_lines[i].strip().split()\n",
    "    #print(splitem)\n",
    "    temp = splitem[-1]\n",
    "    mo_list.append(temp)"
   ]
  },
  {
   "cell_type": "code",
   "execution_count": 9,
   "id": "3b5c3ca0",
   "metadata": {},
   "outputs": [],
   "source": [
    "#type(mo_list[0].split()) , type(mo_list[0]), len(mo_list[0].split()) "
   ]
  },
  {
   "cell_type": "code",
   "execution_count": 10,
   "id": "3e5ba004",
   "metadata": {
    "scrolled": true
   },
   "outputs": [],
   "source": [
    "# Coverting mo coeff into proper complex numbered mo coeff\n",
    "mo_coeff = []\n",
    "for i in range(len(mo_list)):\n",
    "    temp = mo_list[i]\n",
    "    temp = re.sub(',', '+', temp)\n",
    "    temp = temp[1:-1]\n",
    "    temp += 'j'\n",
    "    mo_coeff.append(temp)\n",
    "    #print(mo_coeff)"
   ]
  },
  {
   "cell_type": "code",
   "execution_count": 11,
   "id": "dd76ade6",
   "metadata": {
    "scrolled": true
   },
   "outputs": [
    {
     "data": {
      "text/plain": [
       "(72, '0.305108555229644+0j', '0.07022126910992334+0j')"
      ]
     },
     "execution_count": 11,
     "metadata": {},
     "output_type": "execute_result"
    }
   ],
   "source": [
    "len(mo_coeff), mo_coeff[-1], mo_coeff[0].strip()"
   ]
  },
  {
   "cell_type": "code",
   "execution_count": 12,
   "id": "0e69e1ff",
   "metadata": {},
   "outputs": [],
   "source": [
    "# since the mo coefficients are repeating therefore let's half it\n",
    "l = len(mo_coeff)\n",
    "n = int(l/2)\n",
    "mo_coeff = mo_coeff[0:n]"
   ]
  },
  {
   "cell_type": "markdown",
   "id": "52e1c383",
   "metadata": {},
   "source": [
    "            ### Converting mo_coeff list into the standard mo_ao matrix\n",
    "    The columns of this matrix would give us the required molecular orbitals\n",
    "    The design of matrix is such that a particular i,j index element would repesent, the contribution of jth ao in ith mo.\n",
    "    mo1 = linear combination of all aos\n",
    "    for 6 primitive basis, we will have six aos and therefore 6 mos\n",
    "    every column of the matrix would represent a particular mo."
   ]
  },
  {
   "cell_type": "code",
   "execution_count": 13,
   "id": "b1c90721",
   "metadata": {},
   "outputs": [],
   "source": [
    "mo_array = np.zeros(nbas*nbas, dtype = complex)\n",
    "for i in range(len(mo_coeff)):\n",
    "    mo_array[i] = complex(mo_coeff[i])\n",
    "    \n",
    "mo_matrix = mo_array.reshape(nbas, nbas)"
   ]
  },
  {
   "cell_type": "markdown",
   "id": "f1ba9fa4",
   "metadata": {},
   "source": [
    "###  Parsing the molecular orbital energies and occupancy"
   ]
  },
  {
   "cell_type": "code",
   "execution_count": 14,
   "id": "3f188068",
   "metadata": {},
   "outputs": [],
   "source": [
    "pat_mo = re.compile(r\"Orbital analysis...\")\n",
    "pat_end = re.compile(r\"Properties:\")"
   ]
  },
  {
   "cell_type": "code",
   "execution_count": 15,
   "id": "68496e86",
   "metadata": {},
   "outputs": [],
   "source": [
    "orbital_lines = []\n",
    "for idx, line in enumerate(all_lines):\n",
    "    if re.match(pat_mo, line.strip()):\n",
    "        break\n",
    "idx = idx+3\n",
    "line = all_lines[idx]\n",
    "while not(re.match(pat_end, line.strip())):\n",
    "    orbital_lines.append(line.strip())\n",
    "    idx += 1\n",
    "    line = all_lines[idx]"
   ]
  },
  {
   "cell_type": "code",
   "execution_count": 16,
   "id": "1853b7d3",
   "metadata": {},
   "outputs": [],
   "source": [
    "# there have been some extra empty line addition from the output file , therefore delte the last \n",
    "# two lines\n",
    "orbital_lines = orbital_lines[:-2]"
   ]
  },
  {
   "cell_type": "code",
   "execution_count": 17,
   "id": "048a72cb",
   "metadata": {},
   "outputs": [],
   "source": [
    "orb_ene = []\n",
    "for orb_line in orbital_lines:\n",
    "    orb_ene.append(orb_line.strip().split()[0])"
   ]
  },
  {
   "cell_type": "code",
   "execution_count": 18,
   "id": "684f18c7",
   "metadata": {},
   "outputs": [],
   "source": [
    "occ_detail = []\n",
    "for orb_line in orbital_lines:\n",
    "    occ_detail.append(orb_line.strip().split()[2])"
   ]
  },
  {
   "cell_type": "markdown",
   "id": "c92a4edb",
   "metadata": {},
   "source": [
    "#### So far  we have the mo_ao_matrix, orb_ene_list, occ_detail_list"
   ]
  },
  {
   "cell_type": "markdown",
   "id": "d5448e79",
   "metadata": {},
   "source": [
    "#### Let's extract the charge info and co-ordinate infos"
   ]
  },
  {
   "cell_type": "code",
   "execution_count": 19,
   "id": "e2af1812",
   "metadata": {},
   "outputs": [],
   "source": [
    "pat2 = re.compile(r\"charge =\")\n",
    "with open(\"H2_RHF.inp\") as f:\n",
    "    inp_lines = f.readlines()\n",
    "charge_info = []\n",
    "for line in inp_lines:\n",
    "    for match in re.finditer(pat2, line):\n",
    "        charge_info.append(line)\n",
    "\n",
    "# Collecting charge information\n",
    "molecular_charge = charge_info[0].strip()\n",
    "atomic_charge = charge_info[1:]\n",
    "charges = []\n",
    "for line in atomic_charge:\n",
    "    charges.append(line.strip().split()[2])"
   ]
  },
  {
   "cell_type": "code",
   "execution_count": 20,
   "id": "7333ada9",
   "metadata": {},
   "outputs": [],
   "source": [
    "pat_st = re.compile(r\"# geometry\")\n",
    "pat_en = re.compile(r\"}\")"
   ]
  },
  {
   "cell_type": "code",
   "execution_count": 21,
   "id": "89bb1b21",
   "metadata": {},
   "outputs": [],
   "source": [
    "for idx, line in enumerate(inp_lines):\n",
    "    if re.match(pat_st, line.strip()):\n",
    "        break       "
   ]
  },
  {
   "cell_type": "code",
   "execution_count": 22,
   "id": "2de20d8a",
   "metadata": {},
   "outputs": [],
   "source": [
    "# since coordinate info starts after two lines after of above mentioned starting pattern\n",
    "idx = idx +2\n",
    "line = inp_lines[idx]\n",
    "atom_info = []\n",
    "while not(re.match(pat_en, line.strip())):\n",
    "    atom_info.append(line.strip())\n",
    "    # we need alternate lines as in between coordinate info we have charge info as well\n",
    "    # so we keep increment to \"+2\"\n",
    "    idx = idx + 2\n",
    "    line = inp_lines[idx]"
   ]
  },
  {
   "cell_type": "code",
   "execution_count": 25,
   "id": "eb9cbd18",
   "metadata": {},
   "outputs": [],
   "source": [
    "labels = [] \n",
    "coord_info = []\n",
    "for atom in atom_info:\n",
    "    labels.append(atom.strip().split()[0])    \n",
    "    coord_info.append(atom.strip()[1:])"
   ]
  },
  {
   "cell_type": "markdown",
   "id": "97650f59",
   "metadata": {},
   "source": [
    "#### Now we also have the labels_list, coordinate_list, charge_list separately"
   ]
  },
  {
   "cell_type": "code",
   "execution_count": 27,
   "id": "859b44c6",
   "metadata": {},
   "outputs": [],
   "source": [
    "parsing_file = open('mo_info_extraction.molden', 'w')\n",
    "parsing_file.write(f\"[Molden Format]\\nmade by MagChem_lab [0.0.0]\\n\")\n",
    "parsing_file.write(\"[Atoms] (AU)\\n\")\n",
    "\n",
    "for i in range(len(labels)):\n",
    "    parsing_file.write(f\"{labels[i]}   {i+1}   {charges[i]}    {coord_info[i]}\\n\")\n",
    "\n",
    "parsing_file.write(f\"[MO]\\n\")\n",
    "\n",
    "for i in range(nbas):\n",
    "    parsing_file.write(f\" Sym= A\\n Ene= {orb_ene[i]}\\n\") \n",
    "    parsing_file.write(f\" Spin= Alpha\\n Occp= {occ_detail[i]}\\n\")    \n",
    "    for j in range(nbas):\n",
    "        parsing_file.write(f\"   {j+1}     {mo_matrix[j,i].real:g}+{mo_matrix[j,i].imag:g}j\\n\")\n",
    "\n",
    "parsing_file.close()"
   ]
  },
  {
   "cell_type": "code",
   "execution_count": null,
   "id": "df93b025",
   "metadata": {},
   "outputs": [],
   "source": []
  }
 ],
 "metadata": {
  "kernelspec": {
   "display_name": "Python 3",
   "language": "python",
   "name": "python3"
  },
  "language_info": {
   "codemirror_mode": {
    "name": "ipython",
    "version": 3
   },
   "file_extension": ".py",
   "mimetype": "text/x-python",
   "name": "python",
   "nbconvert_exporter": "python",
   "pygments_lexer": "ipython3",
   "version": "3.8.8"
  }
 },
 "nbformat": 4,
 "nbformat_minor": 5
}
